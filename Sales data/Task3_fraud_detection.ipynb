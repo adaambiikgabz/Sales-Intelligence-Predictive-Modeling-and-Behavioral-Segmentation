{
 "cells": [
  {
   "cell_type": "markdown",
   "id": "0075cf40",
   "metadata": {},
   "source": [
    "### Task 3: Fraud Detection with Linear Algebra & Statistics"
   ]
  },
  {
   "cell_type": "markdown",
   "id": "756e3a92",
   "metadata": {},
   "source": [
    "### Step 1: Import Libraries\n",
    "We start by importing the necessary libraries. \n",
    "- `pandas` and `numpy` for data manipulation.  \n",
    "- `matplotlib` and `seaborn` for visualization.  \n",
    "- `scikit-learn` for preprocessing, modeling, and evaluation.\n"
   ]
  },
  {
   "cell_type": "code",
   "execution_count": 1,
   "id": "5fe4ad11",
   "metadata": {},
   "outputs": [],
   "source": [
    "import pandas as pd\n",
    "import numpy as np\n",
    "import matplotlib.pyplot as plt\n",
    "import seaborn as sns\n",
    "\n",
    "from sklearn.model_selection import train_test_split\n",
    "from sklearn.preprocessing import StandardScaler, OneHotEncoder\n",
    "from sklearn.compose import ColumnTransformer\n",
    "from sklearn.pipeline import Pipeline\n",
    "from sklearn.linear_model import LogisticRegression\n",
    "from sklearn.ensemble import RandomForestClassifier, IsolationForest\n",
    "from sklearn.metrics import (\n",
    "    classification_report, confusion_matrix, roc_auc_score, roc_curve, \n",
    "    precision_recall_curve\n",
    ")\n",
    "from sklearn.decomposition import PCA\n",
    "import joblib\n"
   ]
  },
  {
   "cell_type": "markdown",
   "id": "0060d7f3",
   "metadata": {},
   "source": [
    "### Step 2: Load the Dataset\n",
    "We load the synthetic fraud dataset and check the first few rows to confirm the structure.  \n",
    "The target column is `Is_Fraud` (1 = fraud, 0 = non-fraud).\n"
   ]
  },
  {
   "cell_type": "code",
   "execution_count": 2,
   "id": "2c52be48",
   "metadata": {},
   "outputs": [
    {
     "data": {
      "text/html": [
       "<div>\n",
       "<style scoped>\n",
       "    .dataframe tbody tr th:only-of-type {\n",
       "        vertical-align: middle;\n",
       "    }\n",
       "\n",
       "    .dataframe tbody tr th {\n",
       "        vertical-align: top;\n",
       "    }\n",
       "\n",
       "    .dataframe thead th {\n",
       "        text-align: right;\n",
       "    }\n",
       "</style>\n",
       "<table border=\"1\" class=\"dataframe\">\n",
       "  <thead>\n",
       "    <tr style=\"text-align: right;\">\n",
       "      <th></th>\n",
       "      <th>Transaction_ID</th>\n",
       "      <th>Date</th>\n",
       "      <th>Time</th>\n",
       "      <th>Amount</th>\n",
       "      <th>Merchant</th>\n",
       "      <th>Card_Number</th>\n",
       "      <th>Transaction_Type</th>\n",
       "      <th>Is_Fraud</th>\n",
       "    </tr>\n",
       "  </thead>\n",
       "  <tbody>\n",
       "    <tr>\n",
       "      <th>0</th>\n",
       "      <td>1</td>\n",
       "      <td>2025-03-24</td>\n",
       "      <td>16:55:00</td>\n",
       "      <td>89.27</td>\n",
       "      <td>Merchant_14</td>\n",
       "      <td>CARD0019</td>\n",
       "      <td>Purchase</td>\n",
       "      <td>0</td>\n",
       "    </tr>\n",
       "    <tr>\n",
       "      <th>1</th>\n",
       "      <td>2</td>\n",
       "      <td>2025-03-17</td>\n",
       "      <td>06:17:00</td>\n",
       "      <td>138.42</td>\n",
       "      <td>Merchant_13</td>\n",
       "      <td>CARD0048</td>\n",
       "      <td>Purchase</td>\n",
       "      <td>0</td>\n",
       "    </tr>\n",
       "    <tr>\n",
       "      <th>2</th>\n",
       "      <td>3</td>\n",
       "      <td>2025-03-08</td>\n",
       "      <td>19:11:00</td>\n",
       "      <td>131.36</td>\n",
       "      <td>Merchant_18</td>\n",
       "      <td>CARD0007</td>\n",
       "      <td>Purchase</td>\n",
       "      <td>0</td>\n",
       "    </tr>\n",
       "    <tr>\n",
       "      <th>3</th>\n",
       "      <td>4</td>\n",
       "      <td>2025-01-29</td>\n",
       "      <td>22:47:00</td>\n",
       "      <td>89.24</td>\n",
       "      <td>Merchant_17</td>\n",
       "      <td>CARD0094</td>\n",
       "      <td>Purchase</td>\n",
       "      <td>0</td>\n",
       "    </tr>\n",
       "    <tr>\n",
       "      <th>4</th>\n",
       "      <td>5</td>\n",
       "      <td>2025-01-19</td>\n",
       "      <td>03:57:00</td>\n",
       "      <td>176.40</td>\n",
       "      <td>Merchant_9</td>\n",
       "      <td>CARD0075</td>\n",
       "      <td>Purchase</td>\n",
       "      <td>0</td>\n",
       "    </tr>\n",
       "  </tbody>\n",
       "</table>\n",
       "</div>"
      ],
      "text/plain": [
       "   Transaction_ID        Date      Time  Amount     Merchant Card_Number  \\\n",
       "0               1  2025-03-24  16:55:00   89.27  Merchant_14    CARD0019   \n",
       "1               2  2025-03-17  06:17:00  138.42  Merchant_13    CARD0048   \n",
       "2               3  2025-03-08  19:11:00  131.36  Merchant_18    CARD0007   \n",
       "3               4  2025-01-29  22:47:00   89.24  Merchant_17    CARD0094   \n",
       "4               5  2025-01-19  03:57:00  176.40   Merchant_9    CARD0075   \n",
       "\n",
       "  Transaction_Type  Is_Fraud  \n",
       "0         Purchase         0  \n",
       "1         Purchase         0  \n",
       "2         Purchase         0  \n",
       "3         Purchase         0  \n",
       "4         Purchase         0  "
      ]
     },
     "execution_count": 2,
     "metadata": {},
     "output_type": "execute_result"
    }
   ],
   "source": [
    "df = pd.read_csv(\"synthetic_fraud_dataset.csv\")\n",
    "df.head()\n"
   ]
  },
  {
   "cell_type": "markdown",
   "id": "963d6780",
   "metadata": {},
   "source": [
    "### Step 3: Data Exploration\n",
    "We check dataset size, column types, and missing values.  \n",
    "This ensures the dataset is clean and usable.\n"
   ]
  },
  {
   "cell_type": "code",
   "execution_count": 3,
   "id": "d0a6a7c7",
   "metadata": {},
   "outputs": [
    {
     "name": "stdout",
     "output_type": "stream",
     "text": [
      "Shape: (1000, 8)\n",
      "\n",
      "Data Types:\n",
      " Transaction_ID        int64\n",
      "Date                 object\n",
      "Time                 object\n",
      "Amount              float64\n",
      "Merchant             object\n",
      "Card_Number          object\n",
      "Transaction_Type     object\n",
      "Is_Fraud              int64\n",
      "dtype: object\n",
      "\n",
      "Missing Values:\n",
      " Transaction_ID      0\n",
      "Date                0\n",
      "Time                0\n",
      "Amount              0\n",
      "Merchant            0\n",
      "Card_Number         0\n",
      "Transaction_Type    0\n",
      "Is_Fraud            0\n",
      "dtype: int64\n",
      "\n",
      "Class Distribution:\n",
      " Is_Fraud\n",
      "0    0.95\n",
      "1    0.05\n",
      "Name: proportion, dtype: float64\n"
     ]
    }
   ],
   "source": [
    "print(\"Shape:\", df.shape)\n",
    "print(\"\\nData Types:\\n\", df.dtypes)\n",
    "print(\"\\nMissing Values:\\n\", df.isnull().sum())\n",
    "print(\"\\nClass Distribution:\\n\", df['Is_Fraud'].value_counts(normalize=True))\n"
   ]
  },
  {
   "cell_type": "markdown",
   "id": "fc845661",
   "metadata": {},
   "source": [
    "### Step 4: Feature Engineering\n",
    "We extract useful features:\n",
    "- Convert `Date` to `datetime` and create `DayOfWeek` and `IsWeekend`.  \n",
    "- Convert `Time` to `Hour`.  \n",
    "- Add `AmountLog` (log-transform for skewed amounts).  \n",
    "- Frequency encode `Card_Number` (how often a card appears).  \n"
   ]
  },
  {
   "cell_type": "code",
   "execution_count": 4,
   "id": "80556619",
   "metadata": {},
   "outputs": [],
   "source": [
    "# Convert Date and Time\n",
    "df['Date'] = pd.to_datetime(df['Date'], errors='coerce')\n",
    "df['DayOfWeek'] = df['Date'].dt.dayofweek\n",
    "df['IsWeekend'] = (df['DayOfWeek'] >= 5).astype(int)\n",
    "\n",
    "df['Time'] = pd.to_datetime(df['Time'], format='%H:%M:%S', errors='coerce')\n",
    "df['Hour'] = df['Time'].dt.hour\n",
    "\n",
    "# Log transform amount\n",
    "df['AmountLog'] = np.log1p(df['Amount'])\n",
    "\n",
    "# Frequency encoding for Card_Number\n",
    "card_freq = df['Card_Number'].value_counts()\n",
    "df['Card_Freq'] = df['Card_Number'].map(card_freq)\n"
   ]
  },
  {
   "cell_type": "markdown",
   "id": "c0b398c8",
   "metadata": {},
   "source": [
    "### Step 5: Define Features & Target\n",
    "We separate features (`X`) and target (`y`).\n",
    "Categorical features go into `OneHotEncoder`, \n",
    "numerical features get scaled with `StandardScaler`.\n"
   ]
  },
  {
   "cell_type": "code",
   "execution_count": 5,
   "id": "990764cf",
   "metadata": {},
   "outputs": [],
   "source": [
    "X = df[['AmountLog', 'Hour', 'DayOfWeek', 'IsWeekend', \n",
    "        'Merchant', 'Transaction_Type', 'Card_Freq']]\n",
    "y = df['Is_Fraud']\n",
    "\n",
    "num_features = ['AmountLog', 'Hour', 'DayOfWeek', 'IsWeekend', 'Card_Freq']\n",
    "cat_features = ['Merchant', 'Transaction_Type']\n",
    "\n",
    "preprocessor = ColumnTransformer(\n",
    "    transformers=[\n",
    "        ('num', StandardScaler(), num_features),\n",
    "        ('cat', OneHotEncoder(handle_unknown='ignore'), cat_features)\n",
    "    ]\n",
    ")\n"
   ]
  },
  {
   "cell_type": "markdown",
   "id": "9c776dc4",
   "metadata": {},
   "source": [
    "### Step 6: Train-Test Split\n",
    "We split the dataset into training (70%) and test (30%) sets.\n",
    "This allows fair evaluation.\n"
   ]
  },
  {
   "cell_type": "code",
   "execution_count": 6,
   "id": "b2fab1c9",
   "metadata": {},
   "outputs": [],
   "source": [
    "X_train, X_test, y_train, y_test = train_test_split(\n",
    "    X, y, test_size=0.3, random_state=42, stratify=y\n",
    ")\n"
   ]
  },
  {
   "cell_type": "markdown",
   "id": "fb5529c6",
   "metadata": {},
   "source": [
    "### Step 7: Logistic Regression Model\n",
    "We use Logistic Regression as our **linear baseline model**.\n"
   ]
  },
  {
   "cell_type": "code",
   "execution_count": 7,
   "id": "80c3bea7",
   "metadata": {},
   "outputs": [
    {
     "name": "stdout",
     "output_type": "stream",
     "text": [
      "Logistic Regression Report:\n",
      "               precision    recall  f1-score   support\n",
      "\n",
      "           0       0.99      0.99      0.99       285\n",
      "           1       0.87      0.87      0.87        15\n",
      "\n",
      "    accuracy                           0.99       300\n",
      "   macro avg       0.93      0.93      0.93       300\n",
      "weighted avg       0.99      0.99      0.99       300\n",
      "\n",
      "ROC AUC: 0.9684210526315788\n"
     ]
    }
   ],
   "source": [
    "log_reg = Pipeline([\n",
    "    ('preprocessor', preprocessor),\n",
    "    ('classifier', LogisticRegression(max_iter=1000))\n",
    "])\n",
    "\n",
    "log_reg.fit(X_train, y_train)\n",
    "y_pred_lr = log_reg.predict(X_test)\n",
    "y_prob_lr = log_reg.predict_proba(X_test)[:,1]\n",
    "\n",
    "print(\"Logistic Regression Report:\\n\", classification_report(y_test, y_pred_lr))\n",
    "print(\"ROC AUC:\", roc_auc_score(y_test, y_prob_lr))\n"
   ]
  },
  {
   "cell_type": "markdown",
   "id": "81410d5d",
   "metadata": {},
   "source": [
    "### Step 8: Random Forest Model\n",
    "We add a Random Forest as a **non-linear model** to compare.\n"
   ]
  },
  {
   "cell_type": "code",
   "execution_count": 8,
   "id": "948039d3",
   "metadata": {},
   "outputs": [
    {
     "name": "stdout",
     "output_type": "stream",
     "text": [
      "Random Forest Report:\n",
      "               precision    recall  f1-score   support\n",
      "\n",
      "           0       0.99      0.99      0.99       285\n",
      "           1       0.87      0.87      0.87        15\n",
      "\n",
      "    accuracy                           0.99       300\n",
      "   macro avg       0.93      0.93      0.93       300\n",
      "weighted avg       0.99      0.99      0.99       300\n",
      "\n",
      "ROC AUC: 0.9493567251461988\n"
     ]
    }
   ],
   "source": [
    "rf = Pipeline([\n",
    "    ('preprocessor', preprocessor),\n",
    "    ('classifier', RandomForestClassifier(n_estimators=100, random_state=42))\n",
    "])\n",
    "\n",
    "rf.fit(X_train, y_train)\n",
    "y_pred_rf = rf.predict(X_test)\n",
    "y_prob_rf = rf.predict_proba(X_test)[:,1]\n",
    "\n",
    "print(\"Random Forest Report:\\n\", classification_report(y_test, y_pred_rf))\n",
    "print(\"ROC AUC:\", roc_auc_score(y_test, y_prob_rf))\n"
   ]
  },
  {
   "cell_type": "markdown",
   "id": "25f53773",
   "metadata": {},
   "source": [
    "### Step 9: PCA + Logistic Regression\n",
    "We apply PCA (Principal Component Analysis) to reduce dimensionality \n",
    "and then train Logistic Regression again.  \n",
    "This shows linear algebra in action for feature reduction.\n"
   ]
  },
  {
   "cell_type": "code",
   "execution_count": 9,
   "id": "f5a9c923",
   "metadata": {},
   "outputs": [
    {
     "name": "stdout",
     "output_type": "stream",
     "text": [
      "PCA + Logistic Regression Report:\n",
      "               precision    recall  f1-score   support\n",
      "\n",
      "           0       0.99      0.99      0.99       285\n",
      "           1       0.87      0.87      0.87        15\n",
      "\n",
      "    accuracy                           0.99       300\n",
      "   macro avg       0.93      0.93      0.93       300\n",
      "weighted avg       0.99      0.99      0.99       300\n",
      "\n",
      "ROC AUC: 0.9716959064327486\n"
     ]
    }
   ],
   "source": [
    "pca_log_reg = Pipeline([\n",
    "    ('preprocessor', preprocessor),\n",
    "    ('pca', PCA(n_components=5)),\n",
    "    ('classifier', LogisticRegression(max_iter=1000))\n",
    "])\n",
    "\n",
    "pca_log_reg.fit(X_train, y_train)\n",
    "y_pred_pca = pca_log_reg.predict(X_test)\n",
    "y_prob_pca = pca_log_reg.predict_proba(X_test)[:,1]\n",
    "\n",
    "print(\"PCA + Logistic Regression Report:\\n\", classification_report(y_test, y_pred_pca))\n",
    "print(\"ROC AUC:\", roc_auc_score(y_test, y_prob_pca))\n"
   ]
  },
  {
   "cell_type": "markdown",
   "id": "45995c21",
   "metadata": {},
   "source": [
    "### Step 10: ROC Curves\n",
    "We plot ROC curves to visualize model performance across thresholds.\n"
   ]
  },
  {
   "cell_type": "code",
   "execution_count": 10,
   "id": "41553f8e",
   "metadata": {},
   "outputs": [
    {
     "data": {
      "image/png": "[encoded data removed]",
      "text/plain": [
       "<Figure size 800x600 with 1 Axes>"
      ]
     },
     "metadata": {},
     "output_type": "display_data"
    }
   ],
   "source": [
    "plt.figure(figsize=(8,6))\n",
    "\n",
    "for model, y_prob, label in [\n",
    "    (log_reg, y_prob_lr, \"LogReg\"),\n",
    "    (rf, y_prob_rf, \"RandomForest\"),\n",
    "    (pca_log_reg, y_prob_pca, \"PCA+LogReg\")\n",
    "]:\n",
    "    fpr, tpr, _ = roc_curve(y_test, y_prob)\n",
    "    plt.plot(fpr, tpr, label=f\"{label} (AUC={roc_auc_score(y_test, y_prob):.2f})\")\n",
    "\n",
    "plt.plot([0,1],[0,1],'--',color='gray')\n",
    "plt.xlabel(\"False Positive Rate\")\n",
    "plt.ylabel(\"True Positive Rate\")\n",
    "plt.title(\"ROC Curves\")\n",
    "plt.legend()\n",
    "plt.show()\n"
   ]
  },
  {
   "cell_type": "markdown",
   "id": "95049471",
   "metadata": {},
   "source": [
    "#### ROC Curve Analysis\n",
    "\n",
    "The ROC curve (Receiver Operating Characteristic) compares the True Positive Rate (TPR / Recall) against the False Positive Rate (FPR) for different models.\n",
    "\n",
    "Logistic Regression (AUC = 0.97)\n",
    "\n",
    "Shows very strong discriminatory ability.\n",
    "\n",
    "Captures most fraud cases while keeping false alarms low.\n",
    "\n",
    "Random Forest (AUC = 0.95)\n",
    "\n",
    "Slightly lower than Logistic Regression.\n",
    "\n",
    "Still effective, but a bit less consistent in separating fraud from non-fraud.\n",
    "\n",
    "PCA + Logistic Regression (AUC = 0.97)\n",
    "\n",
    "Performs on par with standard Logistic Regression.\n",
    "\n",
    "Dimensionality reduction (PCA) didn’t hurt model performance, meaning the dataset is not highly redundant.\n",
    "\n",
    "Key Insight:\n",
    "All models perform well (AUC > 0.95). Logistic Regression, with or without PCA, provides the best balance of accuracy and interpretability for fraud detection."
   ]
  },
  {
   "cell_type": "markdown",
   "id": "c43c7e9c",
   "metadata": {},
   "source": [
    "### Step 11: Threshold Tuning\n",
    "Instead of default threshold (0.5), \n",
    "we find an optimal threshold using Precision-Recall tradeoff.\n"
   ]
  },
  {
   "cell_type": "code",
   "execution_count": 11,
   "id": "33f7ff26",
   "metadata": {},
   "outputs": [
    {
     "data": {
      "image/png": "[encoded data removed]",
      "text/plain": [
       "<Figure size 800x600 with 1 Axes>"
      ]
     },
     "metadata": {},
     "output_type": "display_data"
    }
   ],
   "source": [
    "precision, recall, thresholds = precision_recall_curve(y_test, y_prob_rf)\n",
    "\n",
    "plt.figure(figsize=(8,6))\n",
    "plt.plot(thresholds, precision[:-1], label=\"Precision\")\n",
    "plt.plot(thresholds, recall[:-1], label=\"Recall\")\n",
    "plt.xlabel(\"Threshold\")\n",
    "plt.ylabel(\"Score\")\n",
    "plt.title(\"Precision-Recall vs Threshold\")\n",
    "plt.legend()\n",
    "plt.show()\n"
   ]
  },
  {
   "cell_type": "markdown",
   "id": "7a9ad98f",
   "metadata": {},
   "source": [
    "#### Precision-Recall vs Threshold\n",
    "\n",
    "The Precision-Recall vs Threshold curve shows how precision and recall trade off when changing the decision threshold.\n",
    "\n",
    "At low thresholds (0.0 – 0.2):\n",
    "\n",
    "Recall is high (~1.0) → Almost all frauds are detected.\n",
    "\n",
    "Precision is low (~0.1–0.3) → Many false positives (normal transactions incorrectly flagged as fraud).\n",
    "\n",
    "At medium thresholds (0.4 – 0.6):\n",
    "\n",
    "Precision (~0.8–0.9) and recall (~0.8–0.9) both balance well.\n",
    "\n",
    "This is typically the “sweet spot” for fraud detection.\n",
    "\n",
    "At high thresholds (0.7 – 0.9):\n",
    "\n",
    "Precision is perfect (1.0) → All flagged cases are fraud.\n",
    "\n",
    "Recall drops (~0.2–0.4) → Most frauds go undetected.\n",
    "\n",
    "Key Insight:\n",
    "The threshold choice depends on business priorities:\n",
    "\n",
    "If minimizing false alarms is critical → choose a high threshold (high precision).\n",
    "\n",
    "If catching all fraud cases is critical → choose a low threshold (high recall).\n",
    "\n",
    "For a balanced strategy, a threshold around 0.5–0.6 is optimal"
   ]
  },
  {
   "cell_type": "markdown",
   "id": "6b950651",
   "metadata": {},
   "source": [
    "### Step 12: Save Model\n",
    "We save the trained Random Forest pipeline for later use.\n"
   ]
  },
  {
   "cell_type": "code",
   "execution_count": 12,
   "id": "69c1edde",
   "metadata": {},
   "outputs": [
    {
     "data": {
      "text/plain": [
       "['fraud_detection_model.pkl']"
      ]
     },
     "execution_count": 12,
     "metadata": {},
     "output_type": "execute_result"
    }
   ],
   "source": [
    "joblib.dump(rf, \"fraud_detection_model.pkl\")\n"
   ]
  },
  {
   "cell_type": "code",
   "execution_count": null,
   "id": "fe6834b5",
   "metadata": {},
   "outputs": [],
   "source": []
  }
 ],
 "metadata": {
  "kernelspec": {
   "display_name": "Python 3",
   "language": "python",
   "name": "python3"
  },
  "language_info": {
   "codemirror_mode": {
    "name": "ipython",
    "version": 3
   },
   "file_extension": ".py",
   "mimetype": "text/x-python",
   "name": "python",
   "nbconvert_exporter": "python",
   "pygments_lexer": "ipython3",
   "version": "3.11.9"
  }
 },
 "nbformat": 4,
 "nbformat_minor": 5
}
